{
 "cells": [
  {
   "cell_type": "markdown",
   "metadata": {},
   "source": [
    "# Multiple Arms"
   ]
  },
  {
   "cell_type": "code",
   "execution_count": 1,
   "metadata": {},
   "outputs": [
    {
     "name": "stdout",
     "output_type": "stream",
     "text": [
      "\u001b[31mtensorflow 1.7.1 has requirement numpy>=1.13.3, but you'll have numpy 1.12.1 which is incompatible.\u001b[0m\r\n",
      "\u001b[31mipython 6.5.0 has requirement prompt-toolkit<2.0.0,>=1.0.15, but you'll have prompt-toolkit 3.0.8 which is incompatible.\u001b[0m\r\n"
     ]
    }
   ],
   "source": [
    "!pip -q install ./python"
   ]
  },
  {
   "cell_type": "code",
   "execution_count": 2,
   "metadata": {},
   "outputs": [
    {
     "name": "stderr",
     "output_type": "stream",
     "text": [
      "INFO:unityagents:\n",
      "'Academy' started successfully!\n",
      "Unity Academy name: Academy\n",
      "        Number of Brains: 1\n",
      "        Number of External Brains : 1\n",
      "        Lesson number : 0\n",
      "        Reset Parameters :\n",
      "\t\tgoal_speed -> 1.0\n",
      "\t\tgoal_size -> 5.0\n",
      "Unity brain name: ReacherBrain\n",
      "        Number of Visual Observations (per agent): 0\n",
      "        Vector Observation space type: continuous\n",
      "        Vector Observation space size (per agent): 33\n",
      "        Number of stacked Vector Observation: 1\n",
      "        Vector Action space type: continuous\n",
      "        Vector Action space size (per agent): 4\n",
      "        Vector Action descriptions: , , , \n"
     ]
    }
   ],
   "source": [
    "from unityagents import UnityEnvironment\n",
    "import numpy as np\n",
    "\n",
    "# select this option to load version 1 (with a single agent) of the environment\n",
    "#env = UnityEnvironment(file_name='/data/Reacher_One_Linux_NoVis/Reacher_One_Linux_NoVis.x86_64')\n",
    "\n",
    "# select this option to load version 2 (with 20 agents) of the environment\n",
    "env = UnityEnvironment(file_name='/data/Reacher_Linux_NoVis/Reacher.x86_64')"
   ]
  },
  {
   "cell_type": "code",
   "execution_count": 3,
   "metadata": {},
   "outputs": [],
   "source": [
    "# get the default brain\n",
    "brain_name = env.brain_names[0]\n",
    "brain = env.brains[brain_name]"
   ]
  },
  {
   "cell_type": "markdown",
   "metadata": {},
   "source": [
    "### Examining the State and Action Spaces\n"
   ]
  },
  {
   "cell_type": "code",
   "execution_count": 4,
   "metadata": {},
   "outputs": [
    {
     "name": "stdout",
     "output_type": "stream",
     "text": [
      "Number of agents: 20\n",
      "Size of each action: 4\n",
      "There are 20 agents. Each observes a state with length: 33\n",
      "The state for the first agent looks like: [  0.00000000e+00  -4.00000000e+00   0.00000000e+00   1.00000000e+00\n",
      "  -0.00000000e+00  -0.00000000e+00  -4.37113883e-08   0.00000000e+00\n",
      "   0.00000000e+00   0.00000000e+00   0.00000000e+00   0.00000000e+00\n",
      "   0.00000000e+00   0.00000000e+00  -1.00000000e+01   0.00000000e+00\n",
      "   1.00000000e+00  -0.00000000e+00  -0.00000000e+00  -4.37113883e-08\n",
      "   0.00000000e+00   0.00000000e+00   0.00000000e+00   0.00000000e+00\n",
      "   0.00000000e+00   0.00000000e+00   5.75471878e+00  -1.00000000e+00\n",
      "   5.55726624e+00   0.00000000e+00   1.00000000e+00   0.00000000e+00\n",
      "  -1.68164849e-01]\n"
     ]
    }
   ],
   "source": [
    "# reset the environment\n",
    "env_info = env.reset(train_mode=True)[brain_name]\n",
    "\n",
    "# number of agents\n",
    "num_agents = len(env_info.agents)\n",
    "print('Number of agents:', num_agents)\n",
    "\n",
    "# size of each action\n",
    "action_size = brain.vector_action_space_size\n",
    "print('Size of each action:', action_size)\n",
    "\n",
    "# examine the state space \n",
    "states = env_info.vector_observations\n",
    "state_size = states.shape[1]\n",
    "print('There are {} agents. Each observes a state with length: {}'.format(states.shape[0], state_size))\n",
    "print('The state for the first agent looks like:', states[0])"
   ]
  },
  {
   "cell_type": "code",
   "execution_count": 5,
   "metadata": {},
   "outputs": [
    {
     "name": "stdout",
     "output_type": "stream",
     "text": [
      "cuda:0\n"
     ]
    }
   ],
   "source": [
    "import torch\n",
    "import torch.nn.functional as F\n",
    "import torch.nn as nn\n",
    "\n",
    "from collections import deque\n",
    "import random\n",
    "import torch.optim as optim\n",
    "device = torch.device(\"cuda:0\" if torch.cuda.is_available() else \"cpu\")\n",
    "print(device)\n",
    "BUFFER_SIZE=100000\n",
    "BATCH_SIZE=128\n",
    "GAMMA=0.99\n",
    "TAU=0.001\n",
    "\n",
    "LRactor=5e-4\n",
    "LRcritic=5e-4\n",
    "UPDATE_EVERY=1\n"
   ]
  },
  {
   "cell_type": "markdown",
   "metadata": {},
   "source": [
    "### Actor Model"
   ]
  },
  {
   "cell_type": "code",
   "execution_count": 6,
   "metadata": {},
   "outputs": [],
   "source": [
    "import torch.nn\n",
    "class Actor(nn.Module):\n",
    "    def __init__(self,state_size=33, action_size=4,seed=0):\n",
    "        super(Actor, self).__init__()\n",
    "        self.state_size=state_size\n",
    "        self.action_size=action_size\n",
    "        self.fc1=nn.Linear(self.state_size,128)\n",
    "        self.bn1 = nn.BatchNorm1d(128)\n",
    "\n",
    "        self.fc2=nn.Linear(128,128)\n",
    "        self.fc3=nn.Linear(128,self.action_size)\n",
    "        self.seed=torch.manual_seed(seed)\n",
    "    def forward(self, x):\n",
    "        x=F.relu(self.fc1(x))\n",
    "        x=F.relu(self.fc2(x))\n",
    "        x=self.fc3(x)\n",
    "        return F.tanh(x)\n",
    "          "
   ]
  },
  {
   "cell_type": "markdown",
   "metadata": {},
   "source": [
    "### Critic Model"
   ]
  },
  {
   "cell_type": "code",
   "execution_count": 7,
   "metadata": {},
   "outputs": [],
   "source": [
    "class Critic(nn.Module):\n",
    "    def __init__(self, state_size=33,action_size=4,seed=0):\n",
    "        super(Critic, self).__init__()\n",
    "        self.state_size=state_size\n",
    "        self.action_size=action_size\n",
    "        self.fc1=nn.Linear(self.state_size,128)\n",
    "        self.bn1 = nn.BatchNorm1d(128)\n",
    "\n",
    "        self.fc2=nn.Linear(128+self.action_size,128)\n",
    "        self.fc3=nn.Linear(128,1)\n",
    "        self.seed=torch.manual_seed(seed)\n",
    "    def forward(self,state,action):\n",
    "        x=F.relu(self.fc1(state))\n",
    "        action=action.view(BATCH_SIZE,-1)\n",
    "        x=torch.cat([x,action],1)\n",
    "        x=F.relu(self.fc2(x))\n",
    "        x=self.fc3(x)\n",
    "        return x\n",
    "\n",
    "\n"
   ]
  },
  {
   "cell_type": "markdown",
   "metadata": {},
   "source": [
    "### Memory Class"
   ]
  },
  {
   "cell_type": "code",
   "execution_count": 8,
   "metadata": {},
   "outputs": [],
   "source": [
    "class Memory:\n",
    "    def __init__(self,seed=0):\n",
    "        self.memory=deque(maxlen=BUFFER_SIZE)\n",
    "        self.seed=torch.manual_seed(seed)\n",
    "    def add(self,state, action, reward,next_state,done):\n",
    "        self.memory.append([state,action,reward,next_state,done])\n",
    "    def sample(self,batch_size=BATCH_SIZE):\n",
    "        experiences=random.sample(self.memory, k=batch_size)\n",
    "        states=[]\n",
    "        actions=[]\n",
    "        rewards=[]\n",
    "        next_states=[]\n",
    "        dones=[]\n",
    "        for i in experiences:\n",
    "            states.append(i[0])\n",
    "            actions.append(i[1])\n",
    "            rewards.append(i[2])\n",
    "            next_states.append(i[3])\n",
    "            dones.append(i[4])\n",
    "        return states, actions,rewards,next_states, dones\n",
    "    def __len__(self):\n",
    "        return len(self.memory)"
   ]
  },
  {
   "cell_type": "markdown",
   "metadata": {},
   "source": [
    "### Ornstein–Uhlenbeck Noise "
   ]
  },
  {
   "cell_type": "code",
   "execution_count": 9,
   "metadata": {},
   "outputs": [],
   "source": [
    "import copy\n",
    "class OUNoise(object):\n",
    "    def __init__(self, action_space=4, mu=0.0, theta=0.15, max_sigma=0.3, min_sigma=0.3, decay_period=100000,seed=0):\n",
    "        self.mu           = mu\n",
    "        self.theta        = theta\n",
    "        self.sigma        = max_sigma\n",
    "        self.max_sigma    = max_sigma\n",
    "        self.min_sigma    = min_sigma\n",
    "        self.decay_period = decay_period\n",
    "        self.action_dim   = 4\n",
    "        self.low          = -1\n",
    "        self.high         = 1\n",
    "        self.seed=torch.manual_seed(seed)\n",
    "        self.reset()\n",
    "        \n",
    "    def reset(self):\n",
    "        self.state = np.ones(self.action_dim) * self.mu\n",
    "        \n",
    "    def evolve_state(self):\n",
    "        x  = self.state\n",
    "        dx = self.theta * (self.mu - x) + self.sigma * np.random.randn(self.action_dim)\n",
    "        self.state = x + dx\n",
    "        return self.state\n",
    "    \n",
    "    def get_action(self, action, t=0):\n",
    "        ou_state = self.evolve_state()\n",
    "        self.sigma = self.max_sigma - (self.max_sigma - self.min_sigma) * min(1.0, t / self.decay_period)\n",
    "        return np.clip(action + ou_state, self.low, self.high)"
   ]
  },
  {
   "cell_type": "markdown",
   "metadata": {},
   "source": [
    "### Deep Deterministic Policy gradient algorithm"
   ]
  },
  {
   "cell_type": "code",
   "execution_count": 10,
   "metadata": {},
   "outputs": [],
   "source": [
    "class DDPG:\n",
    "    def __init__(self,state_size=33,action_size=4,seed=0):\n",
    "        self.state_size=state_size\n",
    "        self.action_size=action_size\n",
    "        \n",
    "        self.actorlocal=Actor(state_size,action_size).to(device)\n",
    "        self.actortarget=Actor(state_size,action_size).to(device)\n",
    "        \n",
    "        self.criticlocal=Critic(state_size,action_size).to(device)\n",
    "        self.critictarget=Critic(state_size,action_size).to(device)\n",
    "        \n",
    "        self.memory=Memory()\n",
    "        \n",
    "        self.noise=OUNoise(action_space=action_size)\n",
    "        \n",
    "        self.t_step=0\n",
    "        self.optimizeractor=optim.Adam(self.actorlocal.parameters(),lr=LRactor)\n",
    "        self.optimizercritic=optim.Adam(self.criticlocal.parameters(),lr=LRcritic)\n",
    "        self.critic_criterion  = nn.MSELoss()\n",
    "        self.seed=torch.manual_seed(seed)\n",
    "        self.hard_copy_weights(self.actortarget, self.actorlocal)\n",
    "        self.hard_copy_weights(self.critictarget, self.criticlocal)\n",
    "\n",
    "\n",
    "    \n",
    "    def hard_copy_weights(self, target, source):\n",
    "        \"\"\" copy weights from source to target network (part of initialization)\"\"\"\n",
    "        for target_param, param in zip(target.parameters(), source.parameters()):\n",
    "            target_param.data.copy_(param.data)\n",
    "    \n",
    "    def step(self,state, action,reward,next_state, done):\n",
    "        #self.memory.add(state, action,reward,next_state,done)\n",
    "        self.t_step=(self.t_step+1)%UPDATE_EVERY\n",
    "        if(self.t_step==0):\n",
    "            if(len(self.memory)>=BATCH_SIZE):\n",
    "                experiences=self.memory.sample()\n",
    "                self.learn(experiences)\n",
    "    \n",
    "    def act(self,state):\n",
    "        state = torch.from_numpy(state).float().unsqueeze(0).to(device)\n",
    "        action = self.actorlocal(state)\n",
    "        action = action.cpu().detach().numpy()\n",
    "        #return np.clip(action, -1, 1)\n",
    "        return action\n",
    "        \n",
    "        \n",
    "    \n",
    "    def learn(self,experiences):\n",
    "        states, actions, rewards, next_states, dones = experiences\n",
    "        states = torch.FloatTensor(states).to(device)\n",
    "        actions = torch.FloatTensor(actions).to(device)\n",
    "        rewards = torch.FloatTensor(rewards).to(device)\n",
    "        next_states = torch.FloatTensor(next_states).to(device)\n",
    "        dones=torch.FloatTensor(dones).to(device)\n",
    "    \n",
    "        # Critic loss        \n",
    "        Qvals = self.criticlocal(states, actions)\n",
    "        next_actions = self.actortarget(next_states)\n",
    "        next_Q = self.critictarget(next_states, next_actions.detach())\n",
    "        rewards=rewards.view(BATCH_SIZE,1)\n",
    "        dones=dones.view(BATCH_SIZE,1)\n",
    "        Qprime = rewards + (GAMMA * next_Q *(1-dones))\n",
    "        #print(Qprime)\n",
    "        #print(Qvals)\n",
    "        critic_loss = self.critic_criterion(Qvals, Qprime.detach())\n",
    "\n",
    "        # Actor loss\n",
    "        policy_loss = -self.critictarget(states, self.actorlocal(states)).mean()\n",
    "        \n",
    "        # update networks\n",
    "        self.optimizeractor.zero_grad()\n",
    "        policy_loss.backward()\n",
    "        self.optimizeractor.step()\n",
    "\n",
    "        self.optimizercritic.zero_grad()\n",
    "        critic_loss.backward() \n",
    "        self.optimizercritic.step()\n",
    "\n",
    "        # update target networks \n",
    "        for target_param, param in zip(self.actortarget.parameters(), self.actorlocal.parameters()):\n",
    "            target_param.data.copy_(param.data * TAU + target_param.data * (1.0 - TAU))\n",
    "       \n",
    "        for target_param, param in zip(self.critictarget.parameters(), self.criticlocal.parameters()):\n",
    "            target_param.data.copy_(param.data * TAU + target_param.data * (1.0 - TAU))       "
   ]
  },
  {
   "cell_type": "markdown",
   "metadata": {},
   "source": [
    "## Training"
   ]
  },
  {
   "cell_type": "code",
   "execution_count": 11,
   "metadata": {},
   "outputs": [
    {
     "name": "stdout",
     "output_type": "stream",
     "text": [
      "Episode 94\tAverage Score: 32.66\n",
      "Environment solved in 94 episodes!\tAverage Score: 32.66\n"
     ]
    }
   ],
   "source": [
    "def reset(env):\n",
    "    env_info = env.reset(train_mode=True)[brain_name] # reset the environment\n",
    "    return env_info.vector_observations\n",
    "\n",
    "def step(env,actions):\n",
    "    env_info = env.step(actions)[brain_name]       \n",
    "    next_states = env_info.vector_observations  \n",
    "    rewards = env_info.rewards                 \n",
    "    dones = env_info.local_done               \n",
    "    return next_states,rewards,dones\n",
    "\n",
    "from matplotlib import pyplot as plt\n",
    "\n",
    "num_episodes=1000\n",
    "agent=DDPG()\n",
    "noise=OUNoise()\n",
    "scores_lst=[]\n",
    "scores_window=deque(maxlen=100)\n",
    "for i_episode in range(1,num_episodes+1):    \n",
    "    env_info = env.reset(train_mode=True)[brain_name]      # reset the environment    \n",
    "    states = env_info.vector_observations                  # get the current state (for each agent)\n",
    "    scores = np.zeros(num_agents)\n",
    "    \n",
    "    t_step=0\n",
    "    agt_ctr=-1\n",
    "    while True:\n",
    "        actions=[noise.get_action(agent.act(states[j]),t_step) for j in range(20)]\n",
    "        env_info = env.step(actions)[brain_name]           \n",
    "        next_states = env_info.vector_observations         \n",
    "        rewards = env_info.rewards                         \n",
    "        dones = env_info.local_done\n",
    "        if(t_step%2==0):\n",
    "            agt_ctr=(agt_ctr+1)%20\n",
    "            agent.step(states[agt_ctr],actions[agt_ctr],rewards[agt_ctr],next_states[agt_ctr],dones[agt_ctr])\n",
    "        for j in range(20):\n",
    "            if(j!=agt_ctr):\n",
    "                agent.memory.add(states[j],actions[j], rewards[j],next_states[j],dones[j])        \n",
    "        scores += env_info.rewards\n",
    "        scores_lst.append(scores)\n",
    "        scores_window.append(scores)\n",
    "        states = next_states                               \n",
    "        t_step+=1\n",
    "        if np.any(dones):                                  \n",
    "            break\n",
    "    print('\\rEpisode {}\\tAverage Score: {:.2f}'.format(i_episode, np.mean(scores_window)), end=\"\")\n",
    "    if i_episode % 100 == 0:\n",
    "        print('\\rEpisode {}\\tAverage Score: {:.2f}'.format(i_episode, np.mean(scores_window)))\n",
    "    scores_lst.append(scores)\n",
    "    scores_window.append(scores)\n",
    "    if np.mean(scores_window)>30.0:\n",
    "        torch.save(agent.actorlocal.state_dict(), 'checkpointactor.pth')\n",
    "        torch.save(agent.criticlocal.state_dict(),'checkpointcritic.pth')\n",
    "        print('\\nEnvironment solved in {:d} episodes!\\tAverage Score: {:.2f}'.format(i_episode, np.mean(scores_window)))\n",
    "        break"
   ]
  },
  {
   "cell_type": "markdown",
   "metadata": {},
   "source": [
    "## Visualization of training"
   ]
  },
  {
   "cell_type": "code",
   "execution_count": 12,
   "metadata": {},
   "outputs": [
    {
     "data": {
      "text/plain": [
       "Text(0.5,0,'Episode #')"
      ]
     },
     "execution_count": 12,
     "metadata": {},
     "output_type": "execute_result"
    },
    {
     "data": {
      "image/png": "[encoded data removed]",
      "text/plain": [
       "<matplotlib.figure.Figure at 0x7f7cfc1b69e8>"
      ]
     },
     "metadata": {
      "needs_background": "light"
     },
     "output_type": "display_data"
    }
   ],
   "source": [
    "from matplotlib import pyplot as plt\n",
    "fig = plt.figure()\n",
    "ax = fig.add_subplot(111)\n",
    "plt.plot(np.arange(len(np.mean(scores_lst,axis=1))), np.mean(scores_lst,axis=1))\n",
    "plt.ylabel('Score')\n",
    "plt.xlabel('Episode #')\n"
   ]
  },
  {
   "cell_type": "markdown",
   "metadata": {},
   "source": [
    "## Testing "
   ]
  },
  {
   "cell_type": "code",
   "execution_count": 13,
   "metadata": {},
   "outputs": [
    {
     "name": "stdout",
     "output_type": "stream",
     "text": [
      "Total score (averaged over agents) this episode: 31.52499929536134\n"
     ]
    }
   ],
   "source": [
    "env_info = env.reset(train_mode=True)[brain_name]      # reset the environment    \n",
    "states = env_info.vector_observations                  # get the current state (for each agent)\n",
    "scores = np.zeros(num_agents)                          # initialize the score (for each agent)\n",
    "while True:\n",
    "    actions=[agent.act(states[j]) for j in range(20)]\n",
    "    env_info = env.step(actions)[brain_name]           # send all actions to tne environment\n",
    "    next_states = env_info.vector_observations         # get next state (for each agent)\n",
    "    rewards = env_info.rewards                         # get reward (for each agent)\n",
    "    dones = env_info.local_done                        # see if episode finished\n",
    "    scores += env_info.rewards                         # update the score (for each agent)\n",
    "    states = next_states                               # roll over states to next time step\n",
    "    if np.any(dones):                                  # exit loop if episode finished\n",
    "        break\n",
    "print('Total score (averaged over agents) this episode: {}'.format(np.mean(scores)))"
   ]
  },
  {
   "cell_type": "code",
   "execution_count": null,
   "metadata": {},
   "outputs": [],
   "source": []
  }
 ],
 "metadata": {
  "kernelspec": {
   "display_name": "Python 3",
   "language": "python",
   "name": "python3"
  },
  "language_info": {
   "codemirror_mode": {
    "name": "ipython",
    "version": 3
   },
   "file_extension": ".py",
   "mimetype": "text/x-python",
   "name": "python",
   "nbconvert_exporter": "python",
   "pygments_lexer": "ipython3",
   "version": "3.6.3"
  }
 },
 "nbformat": 4,
 "nbformat_minor": 2
}
